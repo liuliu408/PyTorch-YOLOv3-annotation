{
 "cells": [
  {
   "cell_type": "markdown",
   "metadata": {},
   "source": [
    "# yolov3.cfg部分参数解释"
   ]
  },
  {
   "cell_type": "raw",
   "metadata": {},
   "source": [
    "https://blog.csdn.net/qq_33485434/article/details/80907040\n",
    "https://blog.csdn.net/hrsstudy/article/details/65447947"
   ]
  },
  {
   "cell_type": "markdown",
   "metadata": {},
   "source": [
    "# 加BN层就不要偏置"
   ]
  },
  {
   "cell_type": "raw",
   "metadata": {},
   "source": [
    "#yolov2还同时学习bias，但是yolov3不学习了\n",
    "#理论推导见下面\n",
    "https://blog.csdn.net/u010698086/article/details/78046671"
   ]
  },
  {
   "cell_type": "markdown",
   "metadata": {},
   "source": [
    "# nn.BatchNorm2d()"
   ]
  },
  {
   "attachments": {
    "image.png": {
     "image/png": "[encoded data removed]"
    }
   },
   "cell_type": "markdown",
   "metadata": {},
   "source": [
    "官方文档：https://pytorch.org/docs/stable/nn.html  \n",
    "解释：https://blog.csdn.net/u014722627/article/details/68947016  \n",
    "（注意：中文文档关于输入的解释是错的！）  \n",
    "看文档可知有BatchNorm1d()，BatchNorm2d()，BatchNorm3d()等，只是维度增加了而已  \n",
    "对于BatchNorm2d()，输入是四维（N,C,W,H）对应的是（batchsize，channel，height，width），小批量的三维数据，从公式看出：在每一个小批量（mini-batch）数据中，计算输入各个维度的均值和标准差。gamma与beta是可学习的大小为C的参数向量（C为输入大小，对应着（N,C,W,H）的C通道数，因为是对每个通道一层层地进行求mean和var归一化)  \n",
    "\n",
    "![image.png](attachment:image.png)  \n",
    "\n",
    "在训练时，该层计算每次输入的均值与方差，并进行移动平均，学习参数。移动平均默认的动量值为0.1。  \n",
    "在验证时，训练求得的均值/方差将用于标准化验证数据，加速计算。  "
   ]
  }
 ],
 "metadata": {
  "kernelspec": {
   "display_name": "pytorch",
   "language": "python",
   "name": "pytorch"
  },
  "language_info": {
   "codemirror_mode": {
    "name": "ipython",
    "version": 3
   },
   "file_extension": ".py",
   "mimetype": "text/x-python",
   "name": "python",
   "nbconvert_exporter": "python",
   "pygments_lexer": "ipython3",
   "version": "3.6.6"
  }
 },
 "nbformat": 4,
 "nbformat_minor": 2
}
